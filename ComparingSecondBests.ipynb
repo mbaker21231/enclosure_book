{
 "cells": [
  {
   "cell_type": "markdown",
   "id": "3a47e001",
   "metadata": {},
   "source": [
    "# Comparing Second-Best outcomes with decentralized solution\n",
    "\n",
    "The idea here is to see if private enclosure can replicate the second-best outcome, in which a social planner controls land allocation but not labor allocation. As we show in the paper, this requires comparing the condition dictating private, decentralized enclosures:\n",
    "\n",
    "$$\n",
    "r\\geq c\\quad\\rightarrow\\quad \\theta F_T^e - c \\geq 0\n",
    "$$"
   ]
  },
  {
   "cell_type": "markdown",
   "id": "b2410d30",
   "metadata": {},
   "source": [
    "With the social-welfare optimizing enclosures:\n",
    "\n",
    "$$\n",
    "\\theta F_T^e - c - F_T^e + \\left(\\theta F_L^e - F_L^c\\right)\\frac{dl_e}{dt_e} \\geq 0\n",
    "$$\n",
    "\n",
    "Just to repeat the derivation, social welfare requires maximizing:\n",
    "\n",
    "$$\n",
    "\\theta F(T_e,L_e) + F(T_c,L_c) - cT_e\n",
    "$$\n",
    "\n",
    "We rewrite this to give:\n",
    "\n",
    "$$\n",
    "F(\\bar T, \\bar L)\\left[\\theta F(t_e,l_e)+F(t_c,l_c)\\right] - cT_e\\quad\\rightarrow\\quad \n",
    "F(\\bar T, \\bar L)\\left[\\theta F(t_e,l_e)+F(1-t_e,1-l_e)\\right] - c\\bar T t_e\n",
    "$$"
   ]
  },
  {
   "cell_type": "markdown",
   "id": "20fc6bcc",
   "metadata": {},
   "source": [
    "This last expression can also be written in intensive form as follows:\n",
    "\n",
    "$$\n",
    "\\bar T\\left[ f(\\bar l)\\left(\\theta F(t_e,l_e)+F(1-t_e,1-l_e)\\right) -ct_e \\right]\n",
    "$$"
   ]
  },
  {
   "cell_type": "markdown",
   "id": "afb36a59",
   "metadata": {},
   "source": [
    "### Parametric solution - decentralized case\n",
    "\n",
    "Our overall procedure is to solve in closed-form for the private value of $t_e$, and then see for which parameter values this also solves the optimal program. Parametrically, the decentralized solution satisfies:\n",
    "\n",
    "$$\n",
    "(1-\\alpha)\\theta \\left(\\frac{\\bar L_e}{\\bar T_e}\\right)^\\alpha = c\n",
    "$$\n",
    "\n"
   ]
  },
  {
   "cell_type": "markdown",
   "id": "10290869",
   "metadata": {},
   "source": [
    "This can be written as:\n",
    "\n",
    "$$\n",
    "(1-\\alpha)\\theta\\bar l ^\\alpha\\left(\\frac{l_e}{t_e}\\right)^\\alpha=c\n",
    "$$"
   ]
  },
  {
   "cell_type": "markdown",
   "id": "c35efb91",
   "metadata": {},
   "source": [
    "But we know the optimal labor allocation obeys:\n",
    "\n",
    "$$\n",
    "l_e = \\frac{\\Lambda t_e}{1+\\left(\\Lambda - 1\\right)t_e}\n",
    "$$"
   ]
  },
  {
   "cell_type": "markdown",
   "id": "cb585b42",
   "metadata": {},
   "source": [
    "So, plugging in, we get (replicating equation 14 in the paper):\n",
    "\n",
    "$$\n",
    "(1-\\alpha)\\theta \\bar l^\\alpha \\left(\\frac{\\Lambda}{1+(\\Lambda-1)t_e}\\right)^\\alpha=c\n",
    "$$"
   ]
  },
  {
   "cell_type": "markdown",
   "id": "1fe8eab7",
   "metadata": {},
   "source": [
    "Which readily solves out to give:\n",
    "\n",
    "$$\n",
    "t_e=\\frac{\\left(\\frac{(1-\\alpha)\\theta}{c}\\right)^\\frac{1}{\\alpha}\\Lambda \\bar l-1}{\\Lambda - 1}\n",
    "$$"
   ]
  },
  {
   "cell_type": "markdown",
   "id": "54f041a7",
   "metadata": {},
   "source": [
    "### Social optimum\n",
    "\n",
    "To derive the basic condition, note that $l_e(t_e)$ and take derivatives:\n",
    "\n",
    "\n",
    "$$\n",
    " f(\\bar l)\\left(\\theta F^e_t-F^c_t+\\left(\\theta F^e_l-F^c_l\\right)\\frac{\\partial t_e}{\\partial l_e}\\right) -c\n",
    "$$\n",
    "\n"
   ]
  },
  {
   "cell_type": "markdown",
   "id": "9d2fe043",
   "metadata": {},
   "source": [
    "Let's see where we can get with this function. We have:\n",
    "\n",
    "$$\n",
    "\\theta F_t^e - F_t^c = \\theta(1-\\alpha)\\left(\\frac{l_e}{t_e}\\right)^\\alpha-(1-\\alpha)\\left(\\frac{1-l_e}{1-t_e}\\right)^\\alpha\n",
    "$$\n",
    "\n",
    "$$\n",
    "\\theta F_l^e - F_l^c = \\theta\\alpha\\left(\\frac{t_e}{l_e}\\right)^{1-\\alpha}-\\alpha\\left(\\frac{1-t_e}{1-l_e}\\right)^{1-\\alpha}\n",
    "$$\n",
    "\n",
    "and\n",
    "\n",
    "$$\n",
    "\\frac{dl_e}{dt_e}=\\frac{\\Lambda }{1+\\left(\\Lambda - 1\\right)t_e}-(\\Lambda-1)\\frac{\\Lambda t_e }{(1+\\left(\\Lambda - 1\\right)t_e)^2}\n",
    "$$\n",
    "\n",
    "which then becomes:"
   ]
  },
  {
   "cell_type": "markdown",
   "id": "983ac23f",
   "metadata": {},
   "source": [
    "$$\n",
    "\\frac{dl_e}{dt_e}=\\frac{\\Lambda (1+\\left(\\Lambda - 1\\right)t_e) }{(1+\\left(\\Lambda - 1\\right)t_e)^2}-(\\Lambda-1)\\frac{\\Lambda t_e }{(1+\\left(\\Lambda - 1\\right)t_e)^2}\n",
    "$$"
   ]
  },
  {
   "cell_type": "markdown",
   "id": "e21f1efd",
   "metadata": {},
   "source": [
    "Which then becomes: \n",
    "\n",
    "$$\n",
    "\\frac{dl_e}{dt_e}=\\frac{\\Lambda}{(1+\\left(\\Lambda - 1\\right)t_e)^2}\n",
    "$$"
   ]
  },
  {
   "cell_type": "markdown",
   "id": "0f0b0e7a",
   "metadata": {},
   "source": [
    "We then have to go as follows: \n",
    "\n",
    "$$\n",
    "\\frac{l_e}{t_e}=\\frac{\\Lambda}{1+(\\Lambda-1)t_e},\\quad \\frac{1-l_e}{1-t_e}=\\frac{1}{1+(\\Lambda-1)t_e}\n",
    "$$\n",
    "\n",
    "So, the next round of simplifications we can do is:"
   ]
  },
  {
   "cell_type": "markdown",
   "id": "5daa9771",
   "metadata": {},
   "source": [
    "$$\n",
    "\\theta F_t^e - F_t^c=\\theta(1-\\alpha)\\left(\\frac{\\Lambda}{1+(\\Lambda-1)t_e}\\right)^\\alpha-(1-\\alpha)\\left(\\frac{1}{1+(\\Lambda-1)t_e}\\right)^\\alpha=\\frac{(1-\\alpha)(\\theta \\Lambda^\\alpha-1)}{\\left(1+(\\Lambda-1)t_e\\right)^\\alpha},\\quad \\Lambda=(\\alpha\\theta)^\\frac{1}{1-\\alpha}\n",
    "$$"
   ]
  },
  {
   "cell_type": "markdown",
   "id": "0a095ec1",
   "metadata": {},
   "source": [
    "Also, we have:\n",
    "\n",
    "$$\n",
    "\\theta F_l^e - F_l^c = \\theta\\alpha\\left(\\frac{\\Lambda}{1+(\\Lambda-1)t_e}\\right)^{\\alpha-1}-\\alpha\\left(\\frac{1}{1+(\\Lambda-1)t_e}\\right)^{\\alpha-1}=\\frac{\\alpha(\\theta\\Lambda^{\\alpha-1}-1)}{(1+(\\Lambda-1)t_e)^{\\alpha-1}}\n",
    "$$"
   ]
  },
  {
   "cell_type": "markdown",
   "id": "meaningful-surge",
   "metadata": {},
   "source": [
    "So, putting it all together, we get:\n",
    "\n",
    "$$\n",
    "\\bar l^\\alpha\\left(\\frac{(1-\\alpha)(\\theta \\Lambda^\\alpha-1)}{\\left(1+(\\Lambda-1)t_e\\right)^\\alpha}+\\frac{\\alpha(\\theta\\Lambda^{\\alpha-1}-1)}{(1+(\\Lambda-1)t_e)^{\\alpha-1}}\\frac{\\Lambda}{(1+\\left(\\Lambda - 1\\right)t_e)^2}\\right)-c\n",
    "$$"
   ]
  },
  {
   "cell_type": "markdown",
   "id": "ancient-benefit",
   "metadata": {},
   "source": [
    "Quite immediately, this simplifies to:\n",
    "\n",
    "$$\n",
    "\\bar l ^\\alpha\\left(\\frac{(1-\\alpha)(\\theta \\Lambda^\\alpha-1)}{\\left(1+(\\Lambda-1)t_e\\right)^\\alpha}+\\frac{\\alpha(\\theta\\Lambda^{\\alpha}-\\Lambda)}{(1+(\\Lambda-1)t_e)^{\\alpha+1}}\\right)-c\n",
    "$$"
   ]
  },
  {
   "cell_type": "markdown",
   "id": "measured-attempt",
   "metadata": {},
   "source": [
    "This could be simplified more, but we can also substitute in for $t_e$ at this point:\n",
    "\n",
    "$$\n",
    "t_e=\\frac{\\left(\\frac{(1-\\alpha)\\theta}{c}\\right)^\\frac{1}{\\alpha}\\Lambda \\bar l-1}{\\Lambda - 1}\n",
    "$$\n",
    "\n"
   ]
  },
  {
   "cell_type": "markdown",
   "id": "small-champion",
   "metadata": {},
   "source": [
    "$$\n",
    "\\bar l ^\\alpha\\left(\\frac{(1-\\alpha)(\\theta \\Lambda^\\alpha-1)}{\\left(\\left(\\frac{(1-\\alpha)\\theta}{c}\\right)^\\frac{1}{\\alpha}\\Lambda \\bar l\\right)^\\alpha}+\\frac{\\alpha(\\theta\\Lambda^{\\alpha}-\\Lambda)}{\\left(\\left(\\frac{(1-\\alpha)\\theta}{c}\\right)^\\frac{1}{\\alpha}\\Lambda \\bar l\\right)^{\\alpha+1}}\\right)-c\n",
    "$$"
   ]
  },
  {
   "cell_type": "markdown",
   "id": "cheap-bathroom",
   "metadata": {},
   "source": [
    "We can observe a couple of things more or less right off the bat. We will have:\n",
    "\n",
    "$$\n",
    "\\frac{c(\\theta \\Lambda^\\alpha-1)}{\\theta \\Lambda^\\alpha}+\\left(\\frac{c}{(1-\\alpha)\\theta}\\right)^{\\frac{\\alpha+1}{\\alpha}}\\frac{\\alpha(\\theta\\Lambda^\\alpha-\\Lambda)}{\\Lambda^{\\alpha+1}\\bar l}-c\n",
    "$$"
   ]
  },
  {
   "cell_type": "markdown",
   "id": "intimate-cream",
   "metadata": {},
   "source": [
    "But what we want is for this to all equal zero. Hence, what we get is:\n",
    "\n",
    "$$\n",
    "\\frac{c(\\theta \\Lambda^\\alpha-1)}{\\theta \\Lambda^\\alpha}+\\left(\\frac{c}{(1-\\alpha)\\theta}\\right)^{\\frac{\\alpha+1}{\\alpha}}\\frac{\\alpha(\\theta\\Lambda^\\alpha-\\Lambda)}{\\Lambda^{\\alpha+1}\\bar l}=c\n",
    "$$\n",
    "\n",
    "Divide by $c$:\n",
    "\n",
    "$$\n",
    "\\frac{\\theta \\Lambda^\\alpha-1}{\\theta \\Lambda^\\alpha}+c^{\\frac{1}{\\alpha}}\\left(\\frac{1}{(1-\\alpha)\\theta}\\right)^{\\frac{\\alpha+1}{\\alpha}}\\frac{\\alpha(\\theta\\Lambda^\\alpha-\\Lambda)}{\\Lambda^{\\alpha+1}\\bar l}=1\n",
    "$$\n",
    "\n",
    "Expand the first term and simplify:\n",
    "\n",
    "$$\n",
    "1 -\\frac{1}{\\theta \\Lambda^\\alpha}+c^{\\frac{1}{\\alpha}}\\left(\\frac{1}{(1-\\alpha)\\theta}\\right)^{\\frac{\\alpha+1}{\\alpha}}\\frac{\\alpha(\\theta\\Lambda^\\alpha-\\Lambda)}{\\Lambda^{\\alpha+1}\\bar l}=1\n",
    "$$\n",
    "\n"
   ]
  },
  {
   "cell_type": "markdown",
   "id": "experimental-responsibility",
   "metadata": {},
   "source": [
    "The ones cancel out, and we can add over the thing we just cancelled so we have:\n",
    "\n",
    "$$\n",
    " c^{\\frac{1}{\\alpha}}\\left(\\frac{1}{(1-\\alpha)\\theta}\\right)^{\\frac{\\alpha+1}{\\alpha}}\\frac{\\alpha(\\theta\\Lambda^\\alpha-\\Lambda)}{\\Lambda^{\\alpha+1}\\bar l}=\\frac{1}{\\theta \\Lambda^\\alpha}\n",
    "$$"
   ]
  },
  {
   "cell_type": "markdown",
   "id": "entertaining-harvey",
   "metadata": {},
   "source": [
    "Some more cancellations:\n",
    "\n",
    "$$\n",
    " \\bar l = \\left(\\frac{c}{\\theta}\\right)^{\\frac{1}{\\alpha}}\\left(\\frac{1}{(1-\\alpha)}\\right)^{\\frac{\\alpha+1}{\\alpha}}\\alpha(\\theta\\Lambda^{\\alpha-1}-1)\n",
    "$$"
   ]
  },
  {
   "cell_type": "markdown",
   "id": "chicken-montreal",
   "metadata": {},
   "source": [
    "But now we remember that: $\\Lambda=(\\alpha\\theta)^\\frac{1}{1-\\alpha}$, so we can plug this in and get:\n",
    "\n",
    "$$\n",
    " \\bar l = \\left(\\frac{c}{\\theta}\\right)^{\\frac{1}{\\alpha}}\\left(\\frac{1}{(1-\\alpha)}\\right)^{\\frac{\\alpha+1}{\\alpha}}\\alpha\\left(\\frac{\\theta}{\\alpha\\theta}-1\\right)\n",
    "$$"
   ]
  },
  {
   "cell_type": "markdown",
   "id": "asian-outline",
   "metadata": {},
   "source": [
    "Even further, we get:\n",
    "\n",
    "$$\n",
    "\\bar l = \\left(\\frac{c}{\\theta}\\right)^{\\frac{1}{\\alpha}}\\left(\\frac{1}{(1-\\alpha)}\\right)^{\\frac{\\alpha+1}{\\alpha}}(1-\\alpha)\n",
    "$$"
   ]
  },
  {
   "cell_type": "markdown",
   "id": "diverse-local",
   "metadata": {},
   "source": [
    "Which then quite succinctly becomes:\n",
    "\n",
    "$$\n",
    "\\bar l =\\left(\\frac{c}{\\theta (1-\\alpha)}\\right)^\\frac{1}{\\alpha}\n",
    "$$"
   ]
  },
  {
   "cell_type": "markdown",
   "id": "65754a8c",
   "metadata": {},
   "source": [
    "## Alternative approach\n",
    "\n",
    "Equation 23 in the paper gives us the following expression for a planners return function:\n",
    "\n",
    "$$\n",
    "\\bar l^\\alpha \\frac{1+\\left(\\frac{\\Lambda}{\\alpha}-1\\right)t_e}{(1+(\\Lambda-1)t_e)^\\alpha}-ct_e\n",
    "$$\n",
    "\n",
    "which we can directly differentiate to embody the same logic. This time, let's do computer algebra. "
   ]
  },
  {
   "cell_type": "code",
   "execution_count": 11,
   "id": "5a8b25c3",
   "metadata": {},
   "outputs": [],
   "source": [
    "from sympy import *\n",
    "\n",
    "init_printing()"
   ]
  },
  {
   "cell_type": "code",
   "execution_count": 12,
   "id": "4d307746",
   "metadata": {},
   "outputs": [],
   "source": [
    "alpha, theta, c, Lambda, l, te = symbols('alpha theta c Lambda \\overline{l} t_e')"
   ]
  },
  {
   "cell_type": "markdown",
   "id": "economic-adobe",
   "metadata": {},
   "source": [
    "Here is our basic expression for $t_e^*$, which is the decentralized value:"
   ]
  },
  {
   "cell_type": "code",
   "execution_count": 13,
   "id": "adf0a156",
   "metadata": {},
   "outputs": [
    {
     "data": {
      "image/png": "[encoded data removed]",
      "text/latex": [
       "$\\displaystyle \\frac{\\Lambda \\overline{l} \\left(\\frac{\\theta \\left(1 - \\alpha\\right)}{c}\\right)^{\\frac{1}{\\alpha}} - 1}{\\Lambda - 1}$"
      ],
      "text/plain": [
       "                      ___________    \n",
       "                     ╱ θ⋅(1 - α)     \n",
       "Λ⋅\\overline{l}⋅alpha╱  ─────────  - 1\n",
       "                  ╲╱       c         \n",
       "─────────────────────────────────────\n",
       "                Λ - 1                "
      ]
     },
     "execution_count": 13,
     "metadata": {},
     "output_type": "execute_result"
    }
   ],
   "source": [
    "testa = ( ((1-alpha)*theta/c)**(1/alpha)*Lambda*l - 1 ) / (Lambda - 1)\n",
    "testa"
   ]
  },
  {
   "cell_type": "markdown",
   "id": "progressive-ferry",
   "metadata": {},
   "source": [
    "The return function as it appears in the paper is:"
   ]
  },
  {
   "cell_type": "code",
   "execution_count": 14,
   "id": "d08b4d2d",
   "metadata": {},
   "outputs": [
    {
     "data": {
      "image/png": "[encoded data removed]",
      "text/latex": [
       "$\\displaystyle \\overline{l}^{\\alpha} \\left(t_{e} \\left(\\Lambda - 1\\right) + 1\\right)^{- \\alpha} \\left(t_{e} \\left(\\frac{\\Lambda}{\\alpha} - 1\\right) + 1\\right) - c t_{e}$"
      ],
      "text/plain": [
       "            α                 -α ⎛   ⎛Λ    ⎞    ⎞       \n",
       "\\overline{l} ⋅(tₑ⋅(Λ - 1) + 1)  ⋅⎜tₑ⋅⎜─ - 1⎟ + 1⎟ - c⋅tₑ\n",
       "                                 ⎝   ⎝α    ⎠    ⎠       "
      ]
     },
     "execution_count": 14,
     "metadata": {},
     "output_type": "execute_result"
    }
   ],
   "source": [
    "retfun = l**alpha *(1 + (Lambda/alpha -1 )*te) / (1 + (Lambda-1)*te)**alpha - c*te\n",
    "\n",
    "retfun"
   ]
  },
  {
   "cell_type": "markdown",
   "id": "differential-colombia",
   "metadata": {},
   "source": [
    "Taking the derivative to maximize the above gives:"
   ]
  },
  {
   "cell_type": "code",
   "execution_count": 15,
   "id": "f81df085",
   "metadata": {},
   "outputs": [
    {
     "data": {
      "image/png": "[encoded data removed]",
      "text/latex": [
       "$\\displaystyle \\frac{\\left(t_{e} \\left(\\Lambda - 1\\right) + 1\\right)^{- 2 \\alpha - 1} \\left(- \\overline{l}^{\\alpha} \\alpha \\left(\\Lambda - 1\\right) \\left(\\alpha + t_{e} \\left(\\Lambda - \\alpha\\right)\\right) \\left(t_{e} \\left(\\Lambda - 1\\right) + 1\\right)^{\\alpha} + \\overline{l}^{\\alpha} \\left(\\Lambda - \\alpha\\right) \\left(t_{e} \\left(\\Lambda - 1\\right) + 1\\right)^{\\alpha + 1} - \\alpha c \\left(t_{e} \\left(\\Lambda - 1\\right) + 1\\right)^{2 \\alpha + 1}\\right)}{\\alpha}$"
      ],
      "text/plain": [
       "                -2⋅α - 1 ⎛              α                                     \n",
       "(tₑ⋅(Λ - 1) + 1)        ⋅⎝- \\overline{l} ⋅α⋅(Λ - 1)⋅(α + tₑ⋅(Λ - α))⋅(tₑ⋅(Λ - \n",
       "──────────────────────────────────────────────────────────────────────────────\n",
       "                                                                              \n",
       "\n",
       "       α               α                         α + 1                       2\n",
       "1) + 1)  + \\overline{l} ⋅(Λ - α)⋅(tₑ⋅(Λ - 1) + 1)      - α⋅c⋅(tₑ⋅(Λ - 1) + 1) \n",
       "──────────────────────────────────────────────────────────────────────────────\n",
       "   α                                                                          \n",
       "\n",
       "⋅α + 1⎞\n",
       "      ⎠\n",
       "───────\n",
       "       "
      ]
     },
     "execution_count": 15,
     "metadata": {},
     "output_type": "execute_result"
    }
   ],
   "source": [
    "foc = diff(retfun, te).simplify()\n",
    "foc"
   ]
  },
  {
   "cell_type": "markdown",
   "id": "minor-dinner",
   "metadata": {},
   "source": [
    "Miraculously, if we substitute in the equilibrium value of $t_e$ directly, and then solve for $l$ (really, $\\bar l$), we get the following:"
   ]
  },
  {
   "cell_type": "code",
   "execution_count": 16,
   "id": "4aeae24f",
   "metadata": {},
   "outputs": [
    {
     "data": {
      "image/png": "[encoded data removed]",
      "text/latex": [
       "$\\displaystyle \\frac{\\alpha c^{\\frac{1}{\\alpha}} \\left(\\theta \\left(1 - \\alpha\\right)\\right)^{- \\frac{1}{\\alpha}} \\left(1 - \\alpha\\right)}{\\Lambda \\alpha - \\Lambda + \\Lambda^{\\alpha} \\alpha \\theta \\left(e^{\\frac{\\log{\\left(1 - \\alpha \\right)}}{\\alpha}}\\right)^{\\alpha} - \\alpha^{2} + \\alpha}$"
      ],
      "text/plain": [
       "                         -1             \n",
       "                         ───            \n",
       "     alpha___             α             \n",
       "   α⋅   ╲╱ c ⋅(θ⋅(1 - α))   ⋅(1 - α)    \n",
       "────────────────────────────────────────\n",
       "                              α         \n",
       "                 ⎛ log(1 - α)⎞          \n",
       "                 ⎜ ──────────⎟          \n",
       "           α     ⎜     α     ⎟     2    \n",
       "Λ⋅α - Λ + Λ ⋅α⋅θ⋅⎝ℯ          ⎠  - α  + α"
      ]
     },
     "execution_count": 16,
     "metadata": {},
     "output_type": "execute_result"
    }
   ],
   "source": [
    "solns = solve(foc.subs({te:testa}), l)\n",
    "keysol = solns[1]\n",
    "keysol"
   ]
  },
  {
   "cell_type": "markdown",
   "id": "ddf2647e",
   "metadata": {},
   "source": [
    "Shockingly, we have a nice closed form for the locus given as above. That's kind of neat, and it can be simplified, but it takes a little bit of prodding:"
   ]
  },
  {
   "cell_type": "code",
   "execution_count": 17,
   "id": "d979916a",
   "metadata": {},
   "outputs": [
    {
     "data": {
      "image/png": "[encoded data removed]",
      "text/latex": [
       "$\\displaystyle \\left( \\alpha c^{\\frac{1}{\\alpha}} \\theta^{- \\frac{1}{\\alpha}} \\left(1 - \\alpha\\right)^{1 - \\frac{1}{\\alpha}}, \\  \\Lambda \\alpha - \\Lambda + \\Lambda^{\\alpha} \\alpha \\theta \\left(1 - \\alpha\\right) - \\alpha^{2} + \\alpha\\right)$"
      ],
      "text/plain": [
       "⎛            -1             1                                   ⎞\n",
       "⎜            ───        1 - ─                                   ⎟\n",
       "⎜  alpha___   α             α             α                2    ⎟\n",
       "⎝α⋅   ╲╱ c ⋅θ   ⋅(1 - α)     , Λ⋅α - Λ + Λ ⋅α⋅θ⋅(1 - α) - α  + α⎠"
      ]
     },
     "execution_count": 17,
     "metadata": {},
     "output_type": "execute_result"
    }
   ],
   "source": [
    "numer = alpha * c**(1/alpha)*theta**(-1/alpha)*(1-alpha)**(1-1/alpha)\n",
    "\n",
    "denom = Lambda*alpha - Lambda + Lambda**alpha*alpha*theta*(1-alpha) - alpha**2 + alpha\n",
    "\n",
    "numer, denom"
   ]
  },
  {
   "cell_type": "markdown",
   "id": "gothic-settle",
   "metadata": {},
   "source": [
    "Using our expression for $\\Lambda$ gives us:"
   ]
  },
  {
   "cell_type": "code",
   "execution_count": 18,
   "id": "0178ad18",
   "metadata": {},
   "outputs": [
    {
     "data": {
      "image/png": "[encoded data removed]",
      "text/latex": [
       "$\\displaystyle \\left(\\alpha \\theta\\right)^{\\frac{1}{1 - \\alpha}}$"
      ],
      "text/plain": [
       "       1  \n",
       "     ─────\n",
       "     1 - α\n",
       "(α⋅θ)     "
      ]
     },
     "execution_count": 18,
     "metadata": {},
     "output_type": "execute_result"
    }
   ],
   "source": [
    "Lam = (alpha*theta)**(1/(1-alpha))\n",
    "Lam"
   ]
  },
  {
   "cell_type": "code",
   "execution_count": 19,
   "id": "6218bc1d",
   "metadata": {},
   "outputs": [
    {
     "data": {
      "image/png": "[encoded data removed]",
      "text/latex": [
       "$\\displaystyle \\left(\\alpha - 1\\right) \\left(\\Lambda - \\Lambda^{\\alpha} \\alpha \\theta - \\alpha\\right)$"
      ],
      "text/plain": [
       "        ⎛     α        ⎞\n",
       "(α - 1)⋅⎝Λ - Λ ⋅α⋅θ - α⎠"
      ]
     },
     "execution_count": 19,
     "metadata": {},
     "output_type": "execute_result"
    }
   ],
   "source": [
    "denom2 = factor(denom)\n",
    "denom2"
   ]
  },
  {
   "cell_type": "code",
   "execution_count": 20,
   "id": "a43ee7fb",
   "metadata": {},
   "outputs": [
    {
     "data": {
      "image/png": "[encoded data removed]",
      "text/latex": [
       "$\\displaystyle \\left(\\alpha - 1\\right) \\left(- \\alpha \\theta \\left(\\left(\\alpha \\theta\\right)^{\\frac{1}{1 - \\alpha}}\\right)^{\\alpha} - \\alpha + \\left(\\alpha \\theta\\right)^{\\frac{1}{1 - \\alpha}}\\right)$"
      ],
      "text/plain": [
       "        ⎛                  α                 ⎞\n",
       "        ⎜      ⎛       1  ⎞               1  ⎟\n",
       "        ⎜      ⎜     ─────⎟             ─────⎟\n",
       "        ⎜      ⎜     1 - α⎟             1 - α⎟\n",
       "(α - 1)⋅⎝- α⋅θ⋅⎝(α⋅θ)     ⎠  - α + (α⋅θ)     ⎠"
      ]
     },
     "execution_count": 20,
     "metadata": {},
     "output_type": "execute_result"
    }
   ],
   "source": [
    "denom2.subs({Lambda:Lam})"
   ]
  },
  {
   "cell_type": "markdown",
   "id": "0019bcf1",
   "metadata": {},
   "source": [
    "If I'm not mistaken, out of this we get:\n",
    "\n",
    "$$\n",
    "(\\alpha-1)(-\\alpha)=\\alpha(1-\\alpha)\n",
    "$$"
   ]
  },
  {
   "cell_type": "markdown",
   "id": "d6cce7bb",
   "metadata": {},
   "source": [
    "Hence, our numerator and denominator are:\n",
    "\n",
    "$$\n",
    "\\frac{\\alpha \\left(\\frac{c}{\\theta}\\right)^{\\frac{1}{\\alpha}}(1-\\alpha)^{1-\\frac{1}{\\alpha}}}{\\alpha(1-\\alpha)}\n",
    "$$"
   ]
  },
  {
   "cell_type": "markdown",
   "id": "1b714925",
   "metadata": {},
   "source": [
    "So, in the end, our locus is described by:\n",
    "\n",
    "$$\n",
    "\\bar l = \\left(\\frac{c}{\\theta(1-\\alpha)}\\right)^\\frac{1}{\\alpha}\n",
    "$$"
   ]
  },
  {
   "cell_type": "markdown",
   "id": "tough-thirty",
   "metadata": {},
   "source": [
    "Which is exactly the same answer we arrived at the other way...so, this needs to be explained. "
   ]
  },
  {
   "cell_type": "code",
   "execution_count": null,
   "id": "excited-evolution",
   "metadata": {},
   "outputs": [],
   "source": []
  }
 ],
 "metadata": {
  "kernelspec": {
   "display_name": "Python 3",
   "language": "python",
   "name": "python3"
  },
  "language_info": {
   "codemirror_mode": {
    "name": "ipython",
    "version": 3
   },
   "file_extension": ".py",
   "mimetype": "text/x-python",
   "name": "python",
   "nbconvert_exporter": "python",
   "pygments_lexer": "ipython3",
   "version": "3.7.10"
  }
 },
 "nbformat": 4,
 "nbformat_minor": 5
}
